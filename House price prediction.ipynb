{
 "cells": [
  {
   "cell_type": "markdown",
   "id": "94d32820",
   "metadata": {},
   "source": [
    "#### DATA CLEANING AND REPROCESSING SECTION"
   ]
  },
  {
   "cell_type": "code",
   "execution_count": 67,
   "id": "36192111",
   "metadata": {},
   "outputs": [],
   "source": [
    "#importing libraries\n",
    "\n",
    "import pandas as pd\n",
    "import numpy as np\n",
    "from sklearn.preprocessing import LabelEncoder\n",
    "from sklearn.model_selection import train_test_split\n",
    "from sklearn.linear_model import LinearRegression\n",
    "from sklearn.metrics import r2_score, mean_squared_error\n",
    "import matplotlib.pyplot as plt\n",
    "import seaborn as sns\n",
    "\n"
   ]
  },
  {
   "cell_type": "code",
   "execution_count": 3,
   "id": "3a0ebcb2",
   "metadata": {},
   "outputs": [
    {
     "data": {
      "text/html": [
       "<div>\n",
       "<style scoped>\n",
       "    .dataframe tbody tr th:only-of-type {\n",
       "        vertical-align: middle;\n",
       "    }\n",
       "\n",
       "    .dataframe tbody tr th {\n",
       "        vertical-align: top;\n",
       "    }\n",
       "\n",
       "    .dataframe thead th {\n",
       "        text-align: right;\n",
       "    }\n",
       "</style>\n",
       "<table border=\"1\" class=\"dataframe\">\n",
       "  <thead>\n",
       "    <tr style=\"text-align: right;\">\n",
       "      <th></th>\n",
       "      <th>BedRooms</th>\n",
       "      <th>Bath rooms</th>\n",
       "      <th>Size_sqft</th>\n",
       "      <th>location</th>\n",
       "      <th>year built</th>\n",
       "      <th>Garage Available</th>\n",
       "      <th>Furnishing</th>\n",
       "      <th>House Condition</th>\n",
       "      <th>Has_Pool</th>\n",
       "      <th>Lot Size</th>\n",
       "      <th>Price($)</th>\n",
       "    </tr>\n",
       "  </thead>\n",
       "  <tbody>\n",
       "    <tr>\n",
       "      <th>0</th>\n",
       "      <td>3.0</td>\n",
       "      <td>1.0</td>\n",
       "      <td>1149</td>\n",
       "      <td>Rural</td>\n",
       "      <td>2004</td>\n",
       "      <td>NaN</td>\n",
       "      <td>Unfurnished</td>\n",
       "      <td>new</td>\n",
       "      <td>0.0</td>\n",
       "      <td>0.15</td>\n",
       "      <td>244043</td>\n",
       "    </tr>\n",
       "    <tr>\n",
       "      <th>1</th>\n",
       "      <td>NaN</td>\n",
       "      <td>2.0</td>\n",
       "      <td>1169</td>\n",
       "      <td>Rural</td>\n",
       "      <td>1989</td>\n",
       "      <td>1.0</td>\n",
       "      <td>NaN</td>\n",
       "      <td>Old</td>\n",
       "      <td>0.0</td>\n",
       "      <td>0.23</td>\n",
       "      <td>211250</td>\n",
       "    </tr>\n",
       "    <tr>\n",
       "      <th>2</th>\n",
       "      <td>4.0</td>\n",
       "      <td>3.0</td>\n",
       "      <td>1409</td>\n",
       "      <td>Suburban</td>\n",
       "      <td>1993</td>\n",
       "      <td>1.0</td>\n",
       "      <td>Unfurnished</td>\n",
       "      <td>gd</td>\n",
       "      <td>0.0</td>\n",
       "      <td>0.19</td>\n",
       "      <td>257239</td>\n",
       "    </tr>\n",
       "    <tr>\n",
       "      <th>3</th>\n",
       "      <td>3.0</td>\n",
       "      <td>3.0</td>\n",
       "      <td>1647</td>\n",
       "      <td>Suburban</td>\n",
       "      <td>2021</td>\n",
       "      <td>0.0</td>\n",
       "      <td>NaN</td>\n",
       "      <td>new</td>\n",
       "      <td>0.0</td>\n",
       "      <td>0.27</td>\n",
       "      <td>310316</td>\n",
       "    </tr>\n",
       "    <tr>\n",
       "      <th>4</th>\n",
       "      <td>2.0</td>\n",
       "      <td>3.0</td>\n",
       "      <td>1865</td>\n",
       "      <td>Urban</td>\n",
       "      <td>2009</td>\n",
       "      <td>0.0</td>\n",
       "      <td>furnised</td>\n",
       "      <td>old</td>\n",
       "      <td>1.0</td>\n",
       "      <td>0.39</td>\n",
       "      <td>334791</td>\n",
       "    </tr>\n",
       "  </tbody>\n",
       "</table>\n",
       "</div>"
      ],
      "text/plain": [
       "    BedRooms   Bath rooms  Size_sqft  location  year built  Garage Available  \\\n",
       "0         3.0         1.0       1149     Rural        2004               NaN   \n",
       "1         NaN         2.0       1169     Rural        1989               1.0   \n",
       "2         4.0         3.0       1409  Suburban        1993               1.0   \n",
       "3         3.0         3.0       1647  Suburban        2021               0.0   \n",
       "4         2.0         3.0       1865     Urban        2009               0.0   \n",
       "\n",
       "    Furnishing House Condition  Has_Pool  Lot Size  Price($)  \n",
       "0  Unfurnished             new       0.0      0.15    244043  \n",
       "1          NaN             Old       0.0      0.23    211250  \n",
       "2  Unfurnished              gd       0.0      0.19    257239  \n",
       "3          NaN             new       0.0      0.27    310316  \n",
       "4     furnised             old       1.0      0.39    334791  "
      ]
     },
     "execution_count": 3,
     "metadata": {},
     "output_type": "execute_result"
    }
   ],
   "source": [
    "#loading data\n",
    "df = pd.read_csv('property_data.csv')\n",
    "df.head()\n"
   ]
  },
  {
   "cell_type": "code",
   "execution_count": 9,
   "id": "812d95b9",
   "metadata": {},
   "outputs": [],
   "source": [
    "# Standardize column names\n",
    "df.columns = (\n",
    "    df.columns\n",
    "    .str.strip()             \n",
    "    .str.lower()            \n",
    "    .str.replace(\" \", \"_\")   \n",
    "    .str.replace(\"-\", \"_\")   \n",
    ")\n"
   ]
  },
  {
   "cell_type": "code",
   "execution_count": 14,
   "id": "af46e199",
   "metadata": {},
   "outputs": [],
   "source": [
    "import re\n",
    "\n",
    "def clean_column(col):\n",
    "    col = col.lower().strip()\n",
    "    col = re.sub(r'[\\s\\-]+', '_', col)\n",
    "    col = re.sub(r'[^a-z0-9_]', '', col)\n",
    "    col = col.strip('_')\n",
    "    return col\n",
    "\n",
    "df.columns = [clean_column(c) for c in df.columns]\n"
   ]
  },
  {
   "cell_type": "code",
   "execution_count": 15,
   "id": "247754f0",
   "metadata": {},
   "outputs": [
    {
     "data": {
      "text/html": [
       "<div>\n",
       "<style scoped>\n",
       "    .dataframe tbody tr th:only-of-type {\n",
       "        vertical-align: middle;\n",
       "    }\n",
       "\n",
       "    .dataframe tbody tr th {\n",
       "        vertical-align: top;\n",
       "    }\n",
       "\n",
       "    .dataframe thead th {\n",
       "        text-align: right;\n",
       "    }\n",
       "</style>\n",
       "<table border=\"1\" class=\"dataframe\">\n",
       "  <thead>\n",
       "    <tr style=\"text-align: right;\">\n",
       "      <th></th>\n",
       "      <th>missing_values_counts</th>\n",
       "      <th>missing values percentage</th>\n",
       "    </tr>\n",
       "  </thead>\n",
       "  <tbody>\n",
       "    <tr>\n",
       "      <th>bedrooms</th>\n",
       "      <td>46</td>\n",
       "      <td>4.6</td>\n",
       "    </tr>\n",
       "    <tr>\n",
       "      <th>bath_rooms</th>\n",
       "      <td>59</td>\n",
       "      <td>5.9</td>\n",
       "    </tr>\n",
       "    <tr>\n",
       "      <th>size_sqft</th>\n",
       "      <td>0</td>\n",
       "      <td>0.0</td>\n",
       "    </tr>\n",
       "    <tr>\n",
       "      <th>location</th>\n",
       "      <td>0</td>\n",
       "      <td>0.0</td>\n",
       "    </tr>\n",
       "    <tr>\n",
       "      <th>year_built</th>\n",
       "      <td>0</td>\n",
       "      <td>0.0</td>\n",
       "    </tr>\n",
       "    <tr>\n",
       "      <th>garage_available</th>\n",
       "      <td>104</td>\n",
       "      <td>10.4</td>\n",
       "    </tr>\n",
       "    <tr>\n",
       "      <th>furnishing</th>\n",
       "      <td>157</td>\n",
       "      <td>15.7</td>\n",
       "    </tr>\n",
       "    <tr>\n",
       "      <th>house_condition</th>\n",
       "      <td>0</td>\n",
       "      <td>0.0</td>\n",
       "    </tr>\n",
       "    <tr>\n",
       "      <th>has_pool</th>\n",
       "      <td>55</td>\n",
       "      <td>5.5</td>\n",
       "    </tr>\n",
       "    <tr>\n",
       "      <th>lot_size</th>\n",
       "      <td>0</td>\n",
       "      <td>0.0</td>\n",
       "    </tr>\n",
       "    <tr>\n",
       "      <th>price</th>\n",
       "      <td>0</td>\n",
       "      <td>0.0</td>\n",
       "    </tr>\n",
       "  </tbody>\n",
       "</table>\n",
       "</div>"
      ],
      "text/plain": [
       "                  missing_values_counts  missing values percentage\n",
       "bedrooms                             46                        4.6\n",
       "bath_rooms                           59                        5.9\n",
       "size_sqft                             0                        0.0\n",
       "location                              0                        0.0\n",
       "year_built                            0                        0.0\n",
       "garage_available                    104                       10.4\n",
       "furnishing                          157                       15.7\n",
       "house_condition                       0                        0.0\n",
       "has_pool                             55                        5.5\n",
       "lot_size                              0                        0.0\n",
       "price                                 0                        0.0"
      ]
     },
     "execution_count": 15,
     "metadata": {},
     "output_type": "execute_result"
    }
   ],
   "source": [
    "\n",
    "# checking for missing values and printing out the percentages\n",
    "\n",
    "missing = df.isnull().sum()\n",
    "percentage_missing =round((missing/len(df)) * 100,2)\n",
    "data_dict = {\"missing_values_counts\":missing,\n",
    "             \"missing values percentage\":percentage_missing}\n",
    "\n",
    "missing_df = pd.DataFrame(data_dict)\n",
    "missing_df                   "
   ]
  },
  {
   "cell_type": "code",
   "execution_count": 18,
   "id": "c3b9509e",
   "metadata": {},
   "outputs": [
    {
     "name": "stdout",
     "output_type": "stream",
     "text": [
      "Fill the missing values for: bedrooms\n",
      "****************************************************************************************************\n",
      "Fill the missing values for: bath_rooms\n",
      "****************************************************************************************************\n"
     ]
    },
    {
     "data": {
      "text/plain": [
       "bedrooms              0\n",
       "bath_rooms            0\n",
       "size_sqft             0\n",
       "location              0\n",
       "year_built            0\n",
       "garage_available    104\n",
       "furnishing          157\n",
       "house_condition       0\n",
       "has_pool             55\n",
       "lot_size              0\n",
       "price                 0\n",
       "dtype: int64"
      ]
     },
     "execution_count": 18,
     "metadata": {},
     "output_type": "execute_result"
    }
   ],
   "source": [
    "\n",
    "#filling missing values with median\n",
    "Missing_columns=['bedrooms','bath_rooms']\n",
    "for col in Missing_columns:\n",
    "    df[col] = df[col].fillna(df[col].median())\n",
    "    print(f\"Fill the missing values for: {col}\")\n",
    "    print(\"*\"*100)\n",
    "df.isnull().sum()"
   ]
  },
  {
   "cell_type": "code",
   "execution_count": 20,
   "id": "660c14b0",
   "metadata": {},
   "outputs": [
    {
     "data": {
      "text/plain": [
       "0      0.0\n",
       "1      0.0\n",
       "2      0.0\n",
       "3      0.0\n",
       "4      1.0\n",
       "      ... \n",
       "995    0.0\n",
       "996    1.0\n",
       "997    1.0\n",
       "998    0.0\n",
       "999    0.0\n",
       "Name: has_pool, Length: 1000, dtype: float64"
      ]
     },
     "execution_count": 20,
     "metadata": {},
     "output_type": "execute_result"
    }
   ],
   "source": [
    "#using mode to fill in binary columns\n",
    "df[\"garage_available\"].fillna(df[\"garage_available\"].mode()[0])\n",
    "df[\"has_pool\"].fillna(df[\"has_pool\"].mode()[0])\n"
   ]
  },
  {
   "cell_type": "code",
   "execution_count": null,
   "id": "13b65220",
   "metadata": {},
   "outputs": [
    {
     "name": "stderr",
     "output_type": "stream",
     "text": [
      "C:\\Users\\LENOVO\\AppData\\Local\\Temp\\ipykernel_6856\\1247720383.py:1: FutureWarning: A value is trying to be set on a copy of a DataFrame or Series through chained assignment using an inplace method.\n",
      "The behavior will change in pandas 3.0. This inplace method will never work because the intermediate object on which we are setting values always behaves as a copy.\n",
      "\n",
      "For example, when doing 'df[col].method(value, inplace=True)', try using 'df.method({col: value}, inplace=True)' or df[col] = df[col].method(value) instead, to perform the operation inplace on the original object.\n",
      "\n",
      "\n",
      "  df[\"furnishing\"].fillna(df[\"furnishing\"].mode()[0], inplace=True)\n"
     ]
    }
   ],
   "source": [
    "#using mode for categorical columns\n",
    "df[\"furnishing\"].fillna(df[\"furnishing\"].mode()[0], inplace=True)\n"
   ]
  },
  {
   "cell_type": "code",
   "execution_count": 24,
   "id": "78d337fd",
   "metadata": {},
   "outputs": [
    {
     "name": "stdout",
     "output_type": "stream",
     "text": [
      "bedrooms            0\n",
      "bath_rooms          0\n",
      "size_sqft           0\n",
      "location            0\n",
      "year_built          0\n",
      "garage_available    0\n",
      "furnishing          0\n",
      "house_condition     0\n",
      "has_pool            0\n",
      "lot_size            0\n",
      "price               0\n",
      "dtype: int64\n"
     ]
    }
   ],
   "source": [
    "print(df.isnull().sum())\n"
   ]
  },
  {
   "cell_type": "code",
   "execution_count": 26,
   "id": "b0c8773f",
   "metadata": {},
   "outputs": [
    {
     "name": "stdout",
     "output_type": "stream",
     "text": [
      "['Rural' 'Suburban' 'Urban' 'ruraal' 'sub-urban' 'urbn']\n",
      "['Unfurnished' 'Semi-Furnished' 'furnised' 'Semi furnished' 'Furnished']\n",
      "['new' 'Old' 'gd' 'old' 'New' 'Good']\n"
     ]
    }
   ],
   "source": [
    "#Identify inconsistent values in categorical columns (like Location or Furnishing) and standardize them\n",
    "# Check unique values in categorical columns\n",
    "print(df[\"location\"].unique())\n",
    "print(df[\"furnishing\"].unique())\n",
    "print(df[\"house_condition\"].unique())\n",
    "\n"
   ]
  },
  {
   "cell_type": "code",
   "execution_count": 27,
   "id": "438d3700",
   "metadata": {},
   "outputs": [],
   "source": [
    "#standardize values\n",
    "# Location standardization\n",
    "df[\"location\"] = df[\"location\"].str.lower().str.strip()\n",
    "df[\"location\"] = df[\"location\"].replace({\n",
    "    \"ruraal\": \"rural\",\n",
    "    \"sub-urban\": \"suburban\",\n",
    "    \"urbn\": \"urban\"\n",
    "})\n",
    "\n",
    "# Furnishing standardization\n",
    "df[\"furnishing\"] = df[\"furnishing\"].str.lower().str.strip()\n",
    "df[\"furnishing\"] = df[\"furnishing\"].replace({\n",
    "    \"furnised\": \"furnished\",\n",
    "    \"semi furnished\": \"semi-furnished\"\n",
    "})\n",
    "\n",
    "# House condition standardization\n",
    "df[\"house_condition\"] = df[\"house_condition\"].str.lower().str.strip()\n",
    "df[\"house_condition\"] = df[\"house_condition\"].replace({\n",
    "    \"gd\": \"good\"\n",
    "})\n"
   ]
  },
  {
   "cell_type": "code",
   "execution_count": 28,
   "id": "72c00fce",
   "metadata": {},
   "outputs": [
    {
     "data": {
      "text/html": [
       "<div>\n",
       "<style scoped>\n",
       "    .dataframe tbody tr th:only-of-type {\n",
       "        vertical-align: middle;\n",
       "    }\n",
       "\n",
       "    .dataframe tbody tr th {\n",
       "        vertical-align: top;\n",
       "    }\n",
       "\n",
       "    .dataframe thead th {\n",
       "        text-align: right;\n",
       "    }\n",
       "</style>\n",
       "<table border=\"1\" class=\"dataframe\">\n",
       "  <thead>\n",
       "    <tr style=\"text-align: right;\">\n",
       "      <th></th>\n",
       "      <th>bedrooms</th>\n",
       "      <th>bath_rooms</th>\n",
       "      <th>size_sqft</th>\n",
       "      <th>location</th>\n",
       "      <th>year_built</th>\n",
       "      <th>garage_available</th>\n",
       "      <th>furnishing</th>\n",
       "      <th>house_condition</th>\n",
       "      <th>has_pool</th>\n",
       "      <th>lot_size</th>\n",
       "      <th>price</th>\n",
       "    </tr>\n",
       "  </thead>\n",
       "  <tbody>\n",
       "    <tr>\n",
       "      <th>0</th>\n",
       "      <td>3.0</td>\n",
       "      <td>1.0</td>\n",
       "      <td>1149</td>\n",
       "      <td>rural</td>\n",
       "      <td>2004</td>\n",
       "      <td>1.0</td>\n",
       "      <td>unfurnished</td>\n",
       "      <td>new</td>\n",
       "      <td>0.0</td>\n",
       "      <td>0.15</td>\n",
       "      <td>244043</td>\n",
       "    </tr>\n",
       "    <tr>\n",
       "      <th>1</th>\n",
       "      <td>3.0</td>\n",
       "      <td>2.0</td>\n",
       "      <td>1169</td>\n",
       "      <td>rural</td>\n",
       "      <td>1989</td>\n",
       "      <td>1.0</td>\n",
       "      <td>semi-furnished</td>\n",
       "      <td>old</td>\n",
       "      <td>0.0</td>\n",
       "      <td>0.23</td>\n",
       "      <td>211250</td>\n",
       "    </tr>\n",
       "    <tr>\n",
       "      <th>2</th>\n",
       "      <td>4.0</td>\n",
       "      <td>3.0</td>\n",
       "      <td>1409</td>\n",
       "      <td>suburban</td>\n",
       "      <td>1993</td>\n",
       "      <td>1.0</td>\n",
       "      <td>unfurnished</td>\n",
       "      <td>good</td>\n",
       "      <td>0.0</td>\n",
       "      <td>0.19</td>\n",
       "      <td>257239</td>\n",
       "    </tr>\n",
       "    <tr>\n",
       "      <th>3</th>\n",
       "      <td>3.0</td>\n",
       "      <td>3.0</td>\n",
       "      <td>1647</td>\n",
       "      <td>suburban</td>\n",
       "      <td>2021</td>\n",
       "      <td>0.0</td>\n",
       "      <td>semi-furnished</td>\n",
       "      <td>new</td>\n",
       "      <td>0.0</td>\n",
       "      <td>0.27</td>\n",
       "      <td>310316</td>\n",
       "    </tr>\n",
       "    <tr>\n",
       "      <th>4</th>\n",
       "      <td>2.0</td>\n",
       "      <td>3.0</td>\n",
       "      <td>1865</td>\n",
       "      <td>urban</td>\n",
       "      <td>2009</td>\n",
       "      <td>0.0</td>\n",
       "      <td>furnished</td>\n",
       "      <td>old</td>\n",
       "      <td>1.0</td>\n",
       "      <td>0.39</td>\n",
       "      <td>334791</td>\n",
       "    </tr>\n",
       "  </tbody>\n",
       "</table>\n",
       "</div>"
      ],
      "text/plain": [
       "   bedrooms  bath_rooms  size_sqft  location  year_built  garage_available  \\\n",
       "0       3.0         1.0       1149     rural        2004               1.0   \n",
       "1       3.0         2.0       1169     rural        1989               1.0   \n",
       "2       4.0         3.0       1409  suburban        1993               1.0   \n",
       "3       3.0         3.0       1647  suburban        2021               0.0   \n",
       "4       2.0         3.0       1865     urban        2009               0.0   \n",
       "\n",
       "       furnishing house_condition  has_pool  lot_size   price  \n",
       "0     unfurnished             new       0.0      0.15  244043  \n",
       "1  semi-furnished             old       0.0      0.23  211250  \n",
       "2     unfurnished            good       0.0      0.19  257239  \n",
       "3  semi-furnished             new       0.0      0.27  310316  \n",
       "4       furnished             old       1.0      0.39  334791  "
      ]
     },
     "execution_count": 28,
     "metadata": {},
     "output_type": "execute_result"
    }
   ],
   "source": [
    "df.head()"
   ]
  },
  {
   "cell_type": "code",
   "execution_count": 29,
   "id": "f5c0000c",
   "metadata": {},
   "outputs": [
    {
     "name": "stdout",
     "output_type": "stream",
     "text": [
      "bedrooms            float64\n",
      "bath_rooms          float64\n",
      "size_sqft             int64\n",
      "location             object\n",
      "year_built            int64\n",
      "garage_available    float64\n",
      "furnishing           object\n",
      "house_condition      object\n",
      "has_pool            float64\n",
      "lot_size            float64\n",
      "price                 int64\n",
      "dtype: object\n"
     ]
    }
   ],
   "source": [
    "# Ensure all numeric values (e.g., Year Built, Size) are of the correct data type\n",
    "\n",
    "print(df.dtypes)"
   ]
  },
  {
   "cell_type": "code",
   "execution_count": null,
   "id": "abe69f21",
   "metadata": {},
   "outputs": [
    {
     "data": {
      "text/plain": [
       "(1000, 12)"
      ]
     },
     "execution_count": 37,
     "metadata": {},
     "output_type": "execute_result"
    }
   ],
   "source": [
    "#drop duplicates in the dataset\n",
    "df = df.drop_duplicates()\n",
    "df.shape"
   ]
  },
  {
   "cell_type": "code",
   "execution_count": 38,
   "id": "4d2a7893",
   "metadata": {},
   "outputs": [],
   "source": [
    "#Save your cleaned dataset as a new CSV file called cleaned_property.csv\n",
    "df.to_csv(\"cleaned_property.csv\", index=False)"
   ]
  },
  {
   "cell_type": "markdown",
   "id": "9833a636",
   "metadata": {},
   "source": [
    "#### VISUALIZATIONS"
   ]
  },
  {
   "cell_type": "code",
   "execution_count": 69,
   "id": "fc000f3d",
   "metadata": {},
   "outputs": [
    {
     "data": {
      "image/png": "[encoded data removed]",
      "text/plain": [
       "<Figure size 800x500 with 1 Axes>"
      ]
     },
     "metadata": {},
     "output_type": "display_data"
    }
   ],
   "source": [
    "#Distribution of House Prices\n",
    "\n",
    "plt.figure(figsize=(8,5))\n",
    "sns.histplot(df[\"price\"], bins=50, kde=True)\n",
    "plt.title(\"Distribution of House Prices\")\n",
    "plt.xlabel(\"Price\")\n",
    "plt.ylabel(\"Count\")\n",
    "plt.show()"
   ]
  },
  {
   "cell_type": "code",
   "execution_count": 72,
   "id": "988f554f",
   "metadata": {},
   "outputs": [
    {
     "data": {
      "image/png": "[encoded data removed]",
      "text/plain": [
       "<Figure size 800x600 with 1 Axes>"
      ]
     },
     "metadata": {},
     "output_type": "display_data"
    }
   ],
   "source": [
    "#Price vs Size (Scatter Plot)\n",
    "\n",
    "plt.figure(figsize=(8,6))\n",
    "sns.scatterplot(x=\"size_sqft\", y=\"price\", data=df)\n",
    "plt.title(\"House Size vs Price\")\n",
    "plt.xlabel(\"Size (sq ft)\")\n",
    "plt.ylabel(\"Price\")\n",
    "plt.show()\n"
   ]
  },
  {
   "cell_type": "markdown",
   "id": "bf4f7cb0",
   "metadata": {},
   "source": [
    "#### FEATURE ENGINEERING AND MODELLING"
   ]
  },
  {
   "cell_type": "code",
   "execution_count": null,
   "id": "4769f182",
   "metadata": {},
   "outputs": [
    {
     "data": {
      "text/html": [
       "<div>\n",
       "<style scoped>\n",
       "    .dataframe tbody tr th:only-of-type {\n",
       "        vertical-align: middle;\n",
       "    }\n",
       "\n",
       "    .dataframe tbody tr th {\n",
       "        vertical-align: top;\n",
       "    }\n",
       "\n",
       "    .dataframe thead th {\n",
       "        text-align: right;\n",
       "    }\n",
       "</style>\n",
       "<table border=\"1\" class=\"dataframe\">\n",
       "  <thead>\n",
       "    <tr style=\"text-align: right;\">\n",
       "      <th></th>\n",
       "      <th>bedrooms</th>\n",
       "      <th>bath_rooms</th>\n",
       "      <th>size_sqft</th>\n",
       "      <th>location</th>\n",
       "      <th>year_built</th>\n",
       "      <th>garage_available</th>\n",
       "      <th>furnishing</th>\n",
       "      <th>house_condition</th>\n",
       "      <th>has_pool</th>\n",
       "      <th>lot_size</th>\n",
       "      <th>price</th>\n",
       "      <th>house_age</th>\n",
       "    </tr>\n",
       "  </thead>\n",
       "  <tbody>\n",
       "    <tr>\n",
       "      <th>0</th>\n",
       "      <td>3.0</td>\n",
       "      <td>1.0</td>\n",
       "      <td>1149</td>\n",
       "      <td>rural</td>\n",
       "      <td>2004</td>\n",
       "      <td>1.0</td>\n",
       "      <td>unfurnished</td>\n",
       "      <td>new</td>\n",
       "      <td>0.0</td>\n",
       "      <td>0.15</td>\n",
       "      <td>244043</td>\n",
       "      <td>21</td>\n",
       "    </tr>\n",
       "    <tr>\n",
       "      <th>1</th>\n",
       "      <td>3.0</td>\n",
       "      <td>2.0</td>\n",
       "      <td>1169</td>\n",
       "      <td>rural</td>\n",
       "      <td>1989</td>\n",
       "      <td>1.0</td>\n",
       "      <td>semi-furnished</td>\n",
       "      <td>old</td>\n",
       "      <td>0.0</td>\n",
       "      <td>0.23</td>\n",
       "      <td>211250</td>\n",
       "      <td>36</td>\n",
       "    </tr>\n",
       "    <tr>\n",
       "      <th>2</th>\n",
       "      <td>4.0</td>\n",
       "      <td>3.0</td>\n",
       "      <td>1409</td>\n",
       "      <td>suburban</td>\n",
       "      <td>1993</td>\n",
       "      <td>1.0</td>\n",
       "      <td>unfurnished</td>\n",
       "      <td>good</td>\n",
       "      <td>0.0</td>\n",
       "      <td>0.19</td>\n",
       "      <td>257239</td>\n",
       "      <td>32</td>\n",
       "    </tr>\n",
       "    <tr>\n",
       "      <th>3</th>\n",
       "      <td>3.0</td>\n",
       "      <td>3.0</td>\n",
       "      <td>1647</td>\n",
       "      <td>suburban</td>\n",
       "      <td>2021</td>\n",
       "      <td>0.0</td>\n",
       "      <td>semi-furnished</td>\n",
       "      <td>new</td>\n",
       "      <td>0.0</td>\n",
       "      <td>0.27</td>\n",
       "      <td>310316</td>\n",
       "      <td>4</td>\n",
       "    </tr>\n",
       "    <tr>\n",
       "      <th>4</th>\n",
       "      <td>2.0</td>\n",
       "      <td>3.0</td>\n",
       "      <td>1865</td>\n",
       "      <td>urban</td>\n",
       "      <td>2009</td>\n",
       "      <td>0.0</td>\n",
       "      <td>furnished</td>\n",
       "      <td>old</td>\n",
       "      <td>1.0</td>\n",
       "      <td>0.39</td>\n",
       "      <td>334791</td>\n",
       "      <td>16</td>\n",
       "    </tr>\n",
       "  </tbody>\n",
       "</table>\n",
       "</div>"
      ],
      "text/plain": [
       "   bedrooms  bath_rooms  size_sqft  location  year_built  garage_available  \\\n",
       "0       3.0         1.0       1149     rural        2004               1.0   \n",
       "1       3.0         2.0       1169     rural        1989               1.0   \n",
       "2       4.0         3.0       1409  suburban        1993               1.0   \n",
       "3       3.0         3.0       1647  suburban        2021               0.0   \n",
       "4       2.0         3.0       1865     urban        2009               0.0   \n",
       "\n",
       "       furnishing house_condition  has_pool  lot_size   price  house_age  \n",
       "0     unfurnished             new       0.0      0.15  244043         21  \n",
       "1  semi-furnished             old       0.0      0.23  211250         36  \n",
       "2     unfurnished            good       0.0      0.19  257239         32  \n",
       "3  semi-furnished             new       0.0      0.27  310316          4  \n",
       "4       furnished             old       1.0      0.39  334791         16  "
      ]
     },
     "execution_count": 35,
     "metadata": {},
     "output_type": "execute_result"
    }
   ],
   "source": [
    "#Derive any useful new columns (e.g., the age of the house from the year built).\n",
    "\n",
    "df['house_age'] =2025 -df['year_built']\n",
    "df.head()"
   ]
  },
  {
   "cell_type": "code",
   "execution_count": 52,
   "id": "690e1e99",
   "metadata": {},
   "outputs": [],
   "source": [
    "#Prepare categorical features for use in a machine learning model by converting them into numerical form.\n",
    "\n",
    "le = LabelEncoder()\n",
    "df[\"house_condition\"] = le.fit_transform(df[\"house_condition\"])\n"
   ]
  },
  {
   "cell_type": "code",
   "execution_count": null,
   "id": "d198ea5a",
   "metadata": {},
   "outputs": [],
   "source": [
    "#separate the features and the target\n",
    "X = df.drop(\"price\", axis=1) \n",
    "y = df[\"price\"]\n"
   ]
  },
  {
   "cell_type": "code",
   "execution_count": 64,
   "id": "a15e4f5f",
   "metadata": {},
   "outputs": [],
   "source": [
    "X = pd.get_dummies(X, drop_first=True)\n"
   ]
  },
  {
   "cell_type": "code",
   "execution_count": null,
   "id": "2f85b019",
   "metadata": {},
   "outputs": [],
   "source": [
    "#Split the dataset into training and testing parts\n",
    "X_train, X_test, y_train, y_test = train_test_split(\n",
    "    X, y, test_size=0.2, random_state=42\n",
    ")\n"
   ]
  },
  {
   "cell_type": "code",
   "execution_count": 66,
   "id": "63b9ecda",
   "metadata": {},
   "outputs": [
    {
     "name": "stdout",
     "output_type": "stream",
     "text": [
      "R² Score: 0.9668151039153282\n",
      "MSE: 124302988.3396746\n"
     ]
    }
   ],
   "source": [
    "#Build and train a model to predict the price of a house\n",
    "model = LinearRegression()\n",
    "model.fit(X_train, y_train)\n",
    "\n",
    "y_pred = model.predict(X_test)\n",
    "\n",
    "#Evaluate the performance of your model using appropriate metrics.\n",
    "print(\"R² Score:\", r2_score(y_test, y_pred))\n",
    "print(\"MSE:\", mean_squared_error(y_test, y_pred))\n"
   ]
  },
  {
   "cell_type": "code",
   "execution_count": 75,
   "id": "dc1240b8",
   "metadata": {},
   "outputs": [
    {
     "data": {
      "image/png": "[encoded data removed]",
      "text/plain": [
       "<Figure size 800x600 with 1 Axes>"
      ]
     },
     "metadata": {},
     "output_type": "display_data"
    }
   ],
   "source": [
    "#Predicted vs Actual Prices (Model Evaluation)\n",
    "\n",
    "plt.figure(figsize=(8,6))\n",
    "sns.scatterplot(x=y_test, y=y_pred)\n",
    "plt.plot([y_test.min(), y_test.max()], [y_test.min(), y_test.max()], 'r--')  # diagonal line\n",
    "plt.title(\"Predicted vs Actual Prices\")\n",
    "plt.xlabel(\"Actual Price\")\n",
    "plt.ylabel(\"Predicted Price\")\n",
    "plt.show()\n"
   ]
  }
 ],
 "metadata": {
  "kernelspec": {
   "display_name": "base",
   "language": "python",
   "name": "python3"
  },
  "language_info": {
   "codemirror_mode": {
    "name": "ipython",
    "version": 3
   },
   "file_extension": ".py",
   "mimetype": "text/x-python",
   "name": "python",
   "nbconvert_exporter": "python",
   "pygments_lexer": "ipython3",
   "version": "3.13.5"
  }
 },
 "nbformat": 4,
 "nbformat_minor": 5
}
